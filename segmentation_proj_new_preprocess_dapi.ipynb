{
  "nbformat": 4,
  "nbformat_minor": 0,
  "metadata": {
    "colab": {
      "provenance": [],
      "machine_shape": "hm",
      "gpuType": "T4",
      "include_colab_link": true
    },
    "kernelspec": {
      "name": "python3",
      "display_name": "Python 3"
    },
    "language_info": {
      "name": "python"
    },
    "accelerator": "GPU"
  },
  "cells": [
    {
      "cell_type": "markdown",
      "metadata": {
        "id": "view-in-github",
        "colab_type": "text"
      },
      "source": [
        "<a href=\"https://colab.research.google.com/github/young-scientific-researcher/Neurodegeneration/blob/main/segmentation_proj_new_preprocess_dapi.ipynb\" target=\"_parent\"><img src=\"https://colab.research.google.com/assets/colab-badge.svg\" alt=\"Open In Colab\"/></a>"
      ]
    },
    {
      "cell_type": "code",
      "execution_count": null,
      "metadata": {
        "colab": {
          "base_uri": "https://localhost:8080/"
        },
        "id": "7qkj3uK5tE0p",
        "outputId": "f191d953-ad96-412e-b3f7-5ef57c9c1b4d"
      },
      "outputs": [
        {
          "output_type": "stream",
          "name": "stdout",
          "text": [
            "Mounted at /content/drive\n"
          ]
        }
      ],
      "source": [
        "from google.colab import drive\n",
        "drive.mount('/content/drive')"
      ]
    },
    {
      "cell_type": "code",
      "source": [
        "# !pip install \"opencv-python-headless<4.3\"\n",
        "# !pip install cellpose\n",
        "import numpy as np\n",
        "import time, os, sys\n",
        "import cv2\n",
        "from urllib.parse import urlparse\n",
        "import skimage.io\n",
        "import matplotlib.pyplot as plt\n",
        "import matplotlib as mpl\n",
        "import PIL\n",
        "import torch\n",
        "from skimage.io import imread, imshow\n",
        "from scipy import ndimage as ndi\n",
        "from skimage.feature import peak_local_max\n",
        "from skimage.filters import gaussian, sobel\n",
        "from skimage.measure import label\n",
        "from skimage.segmentation import watershed\n",
        "from skimage.morphology import binary_opening\n",
        "from skimage.feature import canny\n",
        "from skimage.morphology import white_tophat, disk\n",
        "from skimage.restoration import rolling_ball\n",
        "import time\n",
        "%matplotlib inline\n",
        "mpl.rcParams['figure.dpi'] = 70\n",
        "import cellpose\n",
        "from urllib.parse import urlparse\n",
        "from cellpose import models, core\n",
        "from cellpose import utils\n",
        "from cellpose import plot\n",
        "from cellpose import io\n",
        "\n",
        "\n",
        "# call logger_setup to have output of cellpose written\n",
        "from cellpose.io import logger_setup\n",
        "logger_setup()"
      ],
      "metadata": {
        "colab": {
          "base_uri": "https://localhost:8080/"
        },
        "id": "8oZY_Jr_tS3x",
        "outputId": "f633a6c5-c2fa-429b-ef4c-83e88b0c6021"
      },
      "execution_count": null,
      "outputs": [
        {
          "output_type": "execute_result",
          "data": {
            "text/plain": [
              "(<Logger cellpose.io (WARNING)>, PosixPath('/root/.cellpose/run.log'))"
            ]
          },
          "metadata": {},
          "execution_count": 1
        }
      ]
    },
    {
      "cell_type": "code",
      "source": [
        "use_GPU = core.use_gpu()\n",
        "print('>>> GPU activated? %d'%use_GPU)"
      ],
      "metadata": {
        "colab": {
          "base_uri": "https://localhost:8080/"
        },
        "id": "1LBk3oP8tfOe",
        "outputId": "8174cc35-66d1-48a8-a357-dd2d28d136f8"
      },
      "execution_count": null,
      "outputs": [
        {
          "output_type": "stream",
          "name": "stdout",
          "text": [
            ">>> GPU activated? 1\n"
          ]
        }
      ]
    },
    {
      "cell_type": "code",
      "source": [
        "!nvidia-smi"
      ],
      "metadata": {
        "colab": {
          "base_uri": "https://localhost:8080/"
        },
        "id": "kPVG-R86u0kz",
        "outputId": "ae88fd0e-4131-4b9f-f6ae-3accb5521f18"
      },
      "execution_count": null,
      "outputs": [
        {
          "output_type": "stream",
          "name": "stdout",
          "text": [
            "Wed Nov 15 11:26:14 2023       \n",
            "+-----------------------------------------------------------------------------+\n",
            "| NVIDIA-SMI 525.105.17   Driver Version: 525.105.17   CUDA Version: 12.0     |\n",
            "|-------------------------------+----------------------+----------------------+\n",
            "| GPU  Name        Persistence-M| Bus-Id        Disp.A | Volatile Uncorr. ECC |\n",
            "| Fan  Temp  Perf  Pwr:Usage/Cap|         Memory-Usage | GPU-Util  Compute M. |\n",
            "|                               |                      |               MIG M. |\n",
            "|===============================+======================+======================|\n",
            "|   0  Tesla T4            Off  | 00000000:00:04.0 Off |                    0 |\n",
            "| N/A   54C    P0    27W /  70W |    105MiB / 15360MiB |      0%      Default |\n",
            "|                               |                      |                  N/A |\n",
            "+-------------------------------+----------------------+----------------------+\n",
            "                                                                               \n",
            "+-----------------------------------------------------------------------------+\n",
            "| Processes:                                                                  |\n",
            "|  GPU   GI   CI        PID   Type   Process name                  GPU Memory |\n",
            "|        ID   ID                                                   Usage      |\n",
            "|=============================================================================|\n",
            "+-----------------------------------------------------------------------------+\n"
          ]
        }
      ]
    },
    {
      "cell_type": "code",
      "source": [
        "z_stack_path_input = '/content/drive/MyDrive/cellpose/Alz/input/z_st_2/'"
      ],
      "metadata": {
        "id": "w7tYda3lto5E"
      },
      "execution_count": null,
      "outputs": []
    },
    {
      "cell_type": "markdown",
      "source": [
        "# read dapi"
      ],
      "metadata": {
        "id": "HZa0V_2OtsdD"
      }
    },
    {
      "cell_type": "code",
      "source": [
        "paths_to_dapi = []\n",
        "\n",
        "for filename in os.listdir(z_stack_path_input):\n",
        "  f = os.path.join(z_stack_path_input, filename)\n",
        "\n",
        "  if 'dapi.tif' in filename.lower():\n",
        "    paths_to_dapi.append(f)\n",
        "  else: continue\n",
        "paths_to_dapi.sort(key=lambda x: int(os.path.basename(x).split('.')[0][11:14]))\n",
        "dapi_imgs = [cv2.imread(f, 0) for f in paths_to_dapi]"
      ],
      "metadata": {
        "id": "ENQ3lTrTtqdS"
      },
      "execution_count": null,
      "outputs": []
    },
    {
      "cell_type": "code",
      "source": [
        "len(dapi_imgs)"
      ],
      "metadata": {
        "colab": {
          "base_uri": "https://localhost:8080/"
        },
        "id": "yHRdkfz3t1Ox",
        "outputId": "276c4e9e-f39c-45f4-ac98-9d6ff15cbc95"
      },
      "execution_count": null,
      "outputs": [
        {
          "output_type": "execute_result",
          "data": {
            "text/plain": [
              "176"
            ]
          },
          "metadata": {},
          "execution_count": 5
        }
      ]
    },
    {
      "cell_type": "code",
      "source": [
        "kernel = cv2.getStructuringElement(cv2.MORPH_ELLIPSE, (3,3))\n",
        "cr_clahe = cv2.createCLAHE(10,(40, 40))\n",
        "cr_clahe2 = cv2.createCLAHE(8,(15, 15))\n",
        "filtered = []\n",
        "\n",
        "start_time = time.time()\n",
        "for i in dapi_imgs:\n",
        "  cl_1 = cr_clahe.apply(i)\n",
        "  blured = cv2.bilateralFilter(cl_1, 10, 20, 20)\n",
        "  cl2 = cr_clahe2.apply(blured)\n",
        "  closing = cv2.morphologyEx(cl2, cv2.MORPH_CLOSE, kernel, 5)\n",
        "  closing = closing.astype(np.uint8)\n",
        "  background_rolling = rolling_ball(closing, radius=30)\n",
        "  closing_rolling = closing - background_rolling\n",
        "  blur = cv2.bilateralFilter(closing_rolling,10,15,15)\n",
        "  filtered.append(blur)\n",
        "\n",
        "print(\"--- %s mins ---\" % ((time.time() - start_time)/60))"
      ],
      "metadata": {
        "colab": {
          "base_uri": "https://localhost:8080/"
        },
        "id": "BneTzwvdvUFD",
        "outputId": "bfdfe5d1-e3aa-430e-be05-7c844d6ffc90"
      },
      "execution_count": null,
      "outputs": [
        {
          "output_type": "stream",
          "name": "stdout",
          "text": [
            "--- 6.2460306207338965 mins ---\n"
          ]
        }
      ]
    },
    {
      "cell_type": "code",
      "source": [
        "filter_stack = np.stack(filtered, axis = 0)\n",
        "filter_stack = np.moveaxis(filter_stack, 0, -1)\n",
        "filter_stack.shape"
      ],
      "metadata": {
        "colab": {
          "base_uri": "https://localhost:8080/"
        },
        "id": "NRcUR0xbAFuz",
        "outputId": "6d26f60b-071a-4d4c-cbc6-85e93d9410a4"
      },
      "execution_count": null,
      "outputs": [
        {
          "output_type": "execute_result",
          "data": {
            "text/plain": [
              "(1024, 1024, 176)"
            ]
          },
          "metadata": {},
          "execution_count": 105
        }
      ]
    },
    {
      "cell_type": "code",
      "source": [
        "filter_stack_tiff = []\n",
        "for i in range(filter_stack.shape[2]):\n",
        "  img = filter_stack_tiff.append(PIL.Image.fromarray(filter_stack[:,:,i]))\n",
        "filter_stack_tiff[0].save('/content/drive/MyDrive/cellpose/Alz/input/new_filter/new_filter.tif', compression=\"tiff_deflate\", save_all=True,\n",
        "               append_images=filter_stack_tiff[1:])"
      ],
      "metadata": {
        "id": "-3bUVCwXCi5i"
      },
      "execution_count": null,
      "outputs": []
    },
    {
      "cell_type": "markdown",
      "source": [
        "# 3D segmentation of filtered stack"
      ],
      "metadata": {
        "id": "w-o5epdIEFIN"
      }
    },
    {
      "cell_type": "code",
      "source": [
        "start_time = time.time()\n",
        "\n",
        "model_f = models.Cellpose(gpu = True, model_type='cyto', net_avg = False, device = torch.device('cuda'))\n",
        "channels = [0,0]\n",
        "diameter_dapi = 44\n",
        "\n",
        "masks_f3d, flows_f3d, styles_f3d, diams_f3d = model_f.eval(filter_stack, invert = True, diameter = diameter_dapi, do_3D = True, channels=channels, progress = True)\n",
        "\n",
        "print(\"--- %s mins ---\" % ((time.time() - start_time)/60))"
      ],
      "metadata": {
        "id": "tJ73-jBEzwbq"
      },
      "execution_count": null,
      "outputs": []
    },
    {
      "cell_type": "code",
      "source": [
        "io.masks_flows_to_seg(raw_stack, masks_3d, flows_3d, diams_3d, '/content/drive/MyDrive/cellpose/Alz/input/new_filter/new_filter.tif', channels)"
      ],
      "metadata": {
        "id": "7-ZP-1Il2EK9"
      },
      "execution_count": null,
      "outputs": []
    }
  ]
}